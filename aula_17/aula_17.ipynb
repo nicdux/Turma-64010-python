{
 "cells": [
  {
   "cell_type": "code",
   "execution_count": 1,
   "metadata": {},
   "outputs": [],
   "source": [
    "import pandas as pd\n",
    "import numpy as np\n",
    "import re"
   ]
  },
  {
   "cell_type": "code",
   "execution_count": 3,
   "metadata": {},
   "outputs": [],
   "source": [
    "texto = \"\"\"\n",
    "O telefone da farmácia é 3000-3232, mas eles só atendem até as 18h em dias úteis.\n",
    "Se precisar entrar em contato fora desse horário, você pode enviar uma mensagem para o celular de emergência no número (11) 98765-4321.\n",
    "Importante ressaltar que hoje, 27/02/2024, é o último dia para aproveitar a promoção especial de medicamentos que começou em 01/02/2024.\n",
    "Não esqueça de apresentar seu CPF na hora da compra, o número 1.78923.456-00 é um exemplo válido.\n",
    "Para mais informações, acesse nosso site ou entre em contato diretamente 19h artemisia@prof\n",
    "(12)98765-4321\n",
    "27-02-2024.\n",
    "\"\"\""
   ]
  },
  {
   "cell_type": "code",
   "execution_count": 5,
   "metadata": {},
   "outputs": [
    {
     "name": "stdout",
     "output_type": "stream",
     "text": [
      "<re.Match object; span=(26, 28), match='30'>\n"
     ]
    }
   ],
   "source": [
    "padrao = re.search(r'\\d{2}',texto)\n",
    "print(padrao)"
   ]
  },
  {
   "cell_type": "code",
   "execution_count": 6,
   "metadata": {},
   "outputs": [
    {
     "name": "stdout",
     "output_type": "stream",
     "text": [
      "correspondência encontrada\n"
     ]
    }
   ],
   "source": [
    "if padrao:\n",
    "    print('correspondência encontrada')"
   ]
  },
  {
   "cell_type": "code",
   "execution_count": 8,
   "metadata": {},
   "outputs": [
    {
     "name": "stdout",
     "output_type": "stream",
     "text": [
      "26\n"
     ]
    },
    {
     "data": {
      "text/plain": [
       "28"
      ]
     },
     "execution_count": 8,
     "metadata": {},
     "output_type": "execute_result"
    }
   ],
   "source": [
    "print(padrao.start())\n",
    "padrao.end()"
   ]
  },
  {
   "cell_type": "code",
   "execution_count": 12,
   "metadata": {},
   "outputs": [
    {
     "data": {
      "text/plain": [
       "['98765', '78923', '98765']"
      ]
     },
     "execution_count": 12,
     "metadata": {},
     "output_type": "execute_result"
    }
   ],
   "source": [
    "padroes = re.findall(r'[0-9]{5}',texto)\n",
    "padroes"
   ]
  },
  {
   "cell_type": "code",
   "execution_count": 13,
   "metadata": {},
   "outputs": [
    {
     "data": {
      "text/plain": [
       "['artemisia@prof']"
      ]
     },
     "execution_count": 13,
     "metadata": {},
     "output_type": "execute_result"
    }
   ],
   "source": [
    "padroes2 = re.findall(r'[a-z]+@[a-z]+',texto)\n",
    "padroes2"
   ]
  },
  {
   "cell_type": "code",
   "execution_count": null,
   "metadata": {},
   "outputs": [
    {
     "data": {
      "text/plain": [
       "['artemisia@']"
      ]
     },
     "execution_count": 15,
     "metadata": {},
     "output_type": "execute_result"
    }
   ],
   "source": [
    "re.findall(r'\\w+@',texto)\n"
   ]
  },
  {
   "cell_type": "code",
   "execution_count": 32,
   "metadata": {},
   "outputs": [],
   "source": [
    "def verifica_email(email: str):\n",
    "    padrao = r'\\w+[\\w.%+-]*@\\w+\\.com(\\.\\w{2,})?'\n",
    "    return bool(re.match(padrao,email))"
   ]
  },
  {
   "cell_type": "code",
   "execution_count": 36,
   "metadata": {},
   "outputs": [
    {
     "name": "stdout",
     "output_type": "stream",
     "text": [
      "email valido\n"
     ]
    }
   ],
   "source": [
    "if verifica_email('ana@hotmail.com'):\n",
    "    print('email valido')\n",
    "else:\n",
    "    print('é invalido')"
   ]
  },
  {
   "cell_type": "markdown",
   "metadata": {},
   "source": [
    "Escreva um programa que pega um texto e retorna uma lista de strings  com emails"
   ]
  },
  {
   "cell_type": "code",
   "execution_count": 39,
   "metadata": {},
   "outputs": [],
   "source": [
    "texto2 = \"\"\"Lorem ipsum dolor support3@ddd.com sit amet, consectetur adipiscing elit. Fusce dapibus, felis a tempor tristique, turpis enim feugiat tortor, a varius justo lectus sed velit. Ut eu ligula euismod, lacinia elit eu, commodo Nullam sales@salesforce.com lobortis lacus sed lorem malesuada, vel tristique quam tempus. Proin 3003-2312 aliquet malesuada condimentum arcu, id malesuada sagittis ex john.doe@uol.com scelerisque vitae. Suspendisse commodo, sapien eu vulputate viverra, metus nunc ultrices odio, at gravida turpis justo nec odio. In hac habitasse platea dictumst. Pellentesque habitant morbi tristique senectus et netus et malesuada fames ac turpis egestas. Sed eget leo ac justo commodo rutrum. Curabitur malesuada jane.smith@ddd.com luctus efficitur 98993-3102 mauris, vitae bibendum turpis. Nulla facilisi. In ullamcorper nisi vel congue pretium. Quisque sed enim non urna fermentum tincidunt.\"\"\""
   ]
  },
  {
   "cell_type": "code",
   "execution_count": 61,
   "metadata": {},
   "outputs": [],
   "source": [
    "def retorna_emails(texto: str):\n",
    "    lista_emails = re.findall(r'[a-z.A-Z.0-9.%+-]+@[a-z]+\\.[a-z]{3}',texto)\n",
    "    return lista_emails"
   ]
  },
  {
   "cell_type": "code",
   "execution_count": 62,
   "metadata": {},
   "outputs": [
    {
     "data": {
      "text/plain": [
       "['support3@ddd.com',\n",
       " 'sales@salesforce.com',\n",
       " 'john.doe@uol.com',\n",
       " 'jane.smith@ddd.com']"
      ]
     },
     "execution_count": 62,
     "metadata": {},
     "output_type": "execute_result"
    }
   ],
   "source": [
    "retorna_emails(texto2)"
   ]
  },
  {
   "cell_type": "code",
   "execution_count": null,
   "metadata": {},
   "outputs": [],
   "source": [
    "lista_nomes = ['suporte','sales','jhon','jane']\n",
    "df = pd.DataFrame({'nomes':lista_nomes, 'emails':retorna_emails(texto2)})\n",
    "df"
   ]
  },
  {
   "cell_type": "code",
   "execution_count": 66,
   "metadata": {},
   "outputs": [],
   "source": [
    "df = pd.DataFrame({'nomes':lista_nomes, 'emails':retorna_emails(texto2)})"
   ]
  },
  {
   "cell_type": "code",
   "execution_count": 67,
   "metadata": {},
   "outputs": [
    {
     "data": {
      "text/html": [
       "<div>\n",
       "<style scoped>\n",
       "    .dataframe tbody tr th:only-of-type {\n",
       "        vertical-align: middle;\n",
       "    }\n",
       "\n",
       "    .dataframe tbody tr th {\n",
       "        vertical-align: top;\n",
       "    }\n",
       "\n",
       "    .dataframe thead th {\n",
       "        text-align: right;\n",
       "    }\n",
       "</style>\n",
       "<table border=\"1\" class=\"dataframe\">\n",
       "  <thead>\n",
       "    <tr style=\"text-align: right;\">\n",
       "      <th></th>\n",
       "      <th>nomes</th>\n",
       "      <th>emails</th>\n",
       "    </tr>\n",
       "  </thead>\n",
       "  <tbody>\n",
       "    <tr>\n",
       "      <th>0</th>\n",
       "      <td>suporte</td>\n",
       "      <td>support3@ddd.com</td>\n",
       "    </tr>\n",
       "    <tr>\n",
       "      <th>1</th>\n",
       "      <td>sales</td>\n",
       "      <td>sales@salesforce.com</td>\n",
       "    </tr>\n",
       "    <tr>\n",
       "      <th>2</th>\n",
       "      <td>jhon</td>\n",
       "      <td>john.doe@uol.com</td>\n",
       "    </tr>\n",
       "    <tr>\n",
       "      <th>3</th>\n",
       "      <td>jane</td>\n",
       "      <td>jane.smith@ddd.com</td>\n",
       "    </tr>\n",
       "  </tbody>\n",
       "</table>\n",
       "</div>"
      ],
      "text/plain": [
       "     nomes                emails\n",
       "0  suporte      support3@ddd.com\n",
       "1    sales  sales@salesforce.com\n",
       "2     jhon      john.doe@uol.com\n",
       "3     jane    jane.smith@ddd.com"
      ]
     },
     "execution_count": 67,
     "metadata": {},
     "output_type": "execute_result"
    }
   ],
   "source": [
    "df"
   ]
  },
  {
   "cell_type": "code",
   "execution_count": 68,
   "metadata": {},
   "outputs": [],
   "source": [
    "texto1 = texto"
   ]
  },
  {
   "cell_type": "code",
   "execution_count": null,
   "metadata": {},
   "outputs": [],
   "source": [
    "def retorna_numeros(texto: str):\n",
    "    lista_numeros = re.findall(r'\\(?\\d{2}\\)?\\s?\\d{4,5}-\\d{4,5}|\\d{4,5}-\\d{4,5}',texto)\n",
    "    # r'\\(?[0-9]\\)?\\s?[0-9]{4,}-[0-9]{4,}'\n",
    "    return lista_numeros"
   ]
  },
  {
   "cell_type": "code",
   "execution_count": 72,
   "metadata": {},
   "outputs": [
    {
     "data": {
      "text/plain": [
       "['3000-3232', '(11) 98765-4321', '(12)98765-4321']"
      ]
     },
     "execution_count": 72,
     "metadata": {},
     "output_type": "execute_result"
    }
   ],
   "source": [
    "retorna_numeros(texto1)"
   ]
  },
  {
   "cell_type": "code",
   "execution_count": 73,
   "metadata": {},
   "outputs": [],
   "source": [
    "import requests"
   ]
  },
  {
   "cell_type": "code",
   "execution_count": 76,
   "metadata": {},
   "outputs": [
    {
     "name": "stdout",
     "output_type": "stream",
     "text": [
      "<!doctype html><html itemscope=\"\" itemtype=\"http://schema.org/WebPage\" lang=\"pt-BR\"><head><meta content=\"text/html; charset=UTF-8\" http-equiv=\"Content-Type\"><meta content=\"/images/branding/googleg/1x/googleg_standard_color_128dp.png\" itemprop=\"image\"><title>Google</title><script nonce=\"cI5T_gpbffvGZHRnaWZtqQ\">(function(){var _g={kEI:'BZ4yZ-ONItiRnesPzZPnsAc',kEXPI:'0,18168,3682128,1088,507102,31559,2872,2891,73050,16105,201864,134777,8155,23351,22435,9779,62658,76208,15816,1804,35268,11814,1635,29276,5230292,10489,113,8833921,4,188,1,5,1,29,5,12,18,1,7,2,4,1,10,1,9,2,2,1,7,52,5,7439204,16496229,4043709,16672,2169859,23029351,6869,5930,100481,11643,10980,15164,8181,5927,43503,21670,6754,2639,21239,9139,745,2,2,3851,328,4459,1766,27990,5633,687,4437,25418,1346,13703,8203,3296,4135,12132,458,1787,1526,1905,12568,797,11899,4971,10668,9543,3247,594,94,1711,1314,4547,132,3103,3716,1682,41,11882,1757,1,4358,3103,4,641,1,34,2706,302,265,1,199,892,95,397,46,1,29,2224,2999,2332,2073,278,508,9,838,5116,692,384,490,8,272,1551,334,2767,728,386,2035,192,895,3,7,149,1534,38,558,948,241,455,60,352,1401,1855,816,835,1786,2,843,2,595,394,117,2032,623,4,2,120,95,21,1836,2,1706,557,211,1685,3,383,1377,566,68,1249,332,40,513,96,34,108,477,313,59,61,416,23,43,467,111,535,93,41,624,111,607,53,1507,227,190,1080,5,4,4,4,348,155,184,808,249,2,701,670,452,157,292,1579,119,1307,327,719,105,141,408,453,1921,15,792,3,2,465,634,49,1260,235,1089,2,27,109,138,1745,1061,17,581,46,49,10,3,213,34,1434,7,1301,21026434,380115,3,14538,2455,21,588,1417,1478,868,1744,5430',kBL:'Xg28',kOPI:89978449};(function(){var a;((a=window.google)==null?0:a.stvsc)?google.kEI=_g.kEI:window.google=_g;}).call(this);})();(function(){google.sn='webhp';google.kHL='pt-BR';})();(function(){\n",
      "var h=this||self;function l(){return window.google!==void 0&&window.google.kOPI!==void 0&&window.google.kOPI!==0?window.google.kOPI:null};var m,n=[];function p(a){for(var b;a&&(!a.getAttribute||!(b=a.getAttribute(\"eid\")));)a=a.parentNode;return b||m}function q(a){for(var b=null;a&&(!a.getAttribute||!(b=a.getAttribute(\"leid\")));)a=a.parentNode;return b}function r(a){/^http:/i.test(a)&&window.location.protocol===\"https:\"&&(google.ml&&google.ml(Error(\"a\"),!1,{src:a,glmm:1}),a=\"\");return a}\n",
      "function t(a,b,c,d,k){var e=\"\";b.search(\"&ei=\")===-1&&(e=\"&ei=\"+p(d),b.search(\"&lei=\")===-1&&(d=q(d))&&(e+=\"&lei=\"+d));d=\"\";var g=b.search(\"&cshid=\")===-1&&a!==\"slh\",f=[];f.push([\"zx\",Date.now().toString()]);h._cshid&&g&&f.push([\"cshid\",h._cshid]);c=c();c!=null&&f.push([\"opi\",c.toString()]);for(c=0;c<f.length;c++){if(c===0||c>0)d+=\"&\";d+=f[c][0]+\"=\"+f[c][1]}return\"/\"+(k||\"gen_204\")+\"?atyp=i&ct=\"+String(a)+\"&cad=\"+(b+e+d)};m=google.kEI;google.getEI=p;google.getLEI=q;google.ml=function(){return null};google.log=function(a,b,c,d,k,e){e=e===void 0?l:e;c||(c=t(a,b,e,d,k));if(c=r(c)){a=new Image;var g=n.length;n[g]=a;a.onerror=a.onload=a.onabort=function(){delete n[g]};a.src=c}};google.logUrl=function(a,b){b=b===void 0?l:b;return t(\"\",a,b)};}).call(this);(function(){google.y={};google.sy=[];var d;(d=google).x||(d.x=function(a,b){if(a)var c=a.id;else{do c=Math.random();while(google.y[c])}google.y[c]=[a,b];return!1});var e;(e=google).sx||(e.sx=function(a){google.sy.push(a)});google.lm=[];var f;(f=google).plm||(f.plm=function(a){google.lm.push.apply(google.lm,a)});google.lq=[];var g;(g=google).load||(g.load=function(a,b,c){google.lq.push([[a],b,c])});var h;(h=google).loadAll||(h.loadAll=function(a,b){google.lq.push([a,b])});google.bx=!1;var k;(k=google).lx||(k.lx=function(){});var l=[],m;(m=google).fce||(m.fce=function(a,b,c,n){l.push([a,b,c,n])});google.qce=l;}).call(this);google.f={};(function(){\n",
      "document.documentElement.addEventListener(\"submit\",function(b){var a;if(a=b.target){var c=a.getAttribute(\"data-submitfalse\");a=c===\"1\"||c===\"q\"&&!a.elements.q.value?!0:!1}else a=!1;a&&(b.preventDefault(),b.stopPropagation())},!0);document.documentElement.addEventListener(\"click\",function(b){var a;a:{for(a=b.target;a&&a!==document.documentElement;a=a.parentElement)if(a.tagName===\"A\"){a=a.getAttribute(\"data-nohref\")===\"1\";break a}a=!1}a&&b.preventDefault()},!0);}).call(this);</script><style>#gbar,#guser{font-size:13px;padding-top:1px !important;}#gbar{height:22px}#guser{padding-bottom:7px !important;text-align:right}.gbh,.gbd{border-top:1px solid #c9d7f1;font-size:1px}.gbh{height:0;position:absolute;top:24px;width:100%}@media all{.gb1{height:22px;margin-right:.5em;vertical-align:top}#gbar{float:left}}a.gb1,a.gb4{text-decoration:underline !important}a.gb1,a.gb4{color:#00c !important}.gbi .gb4{color:#dd8e27 !important}.gbf .gb4{color:#900 !important}\n",
      "</style><style>body,td,a,p,.h{font-family:arial,sans-serif}body{margin:0;overflow-y:scroll}#gog{padding:3px 8px 0}td{line-height:.8em}.gac_m td{line-height:17px}form{margin-bottom:20px}.h{color:#1967d2}em{font-weight:bold;font-style:normal}.lst{height:25px;width:496px}.gsfi,.lst{font:18px arial,sans-serif}.gsfs{font:17px arial,sans-serif}.ds{display:inline-box;display:inline-block;margin:3px 0 4px;margin-left:4px}input{font-family:inherit}body{background:#fff;color:#000}a{color:#681da8;text-decoration:none}a:hover,a:active{text-decoration:underline}.fl a{color:#1967d2}a:visited{color:#681da8}.sblc{padding-top:5px}.sblc a{display:block;margin:2px 0;margin-left:13px;font-size:11px}.lsbb{background:#f8f9fa;border:solid 1px;border-color:#dadce0 #70757a #70757a #dadce0;height:30px}.lsbb{display:block}#WqQANb a{display:inline-block;margin:0 12px}.lsb{background:url(/images/nav_logo229.png) 0 -261px repeat-x;color:#000;border:none;cursor:pointer;height:30px;margin:0;outline:0;font:15px arial,sans-serif;vertical-align:top}.lsb:active{background:#dadce0}.lst:focus{outline:none}.Ucigb{width:458px}</style><script nonce=\"cI5T_gpbffvGZHRnaWZtqQ\">(function(){window.google.erd={jsr:1,bv:2114,de:true,dpf:'Edq7i_jhoSazbilbczfgxuTtIJI2xVE2XSAVc7rNiIY'};\n",
      "var g=this||self;var k,l=(k=g.mei)!=null?k:1,n,p=(n=g.sdo)!=null?n:!0,q=0,r,t=google.erd,v=t.jsr;google.ml=function(a,b,d,m,e){e=e===void 0?2:e;b&&(r=a&&a.message);d===void 0&&(d={});d.cad=\"ple_\"+google.ple+\".aple_\"+google.aple;if(google.dl)return google.dl(a,e,d,!0),null;b=d;if(v<0){window.console&&console.error(a,b);if(v===-2)throw a;b=!1}else b=!a||!a.message||a.message===\"Error loading script\"||q>=l&&!m?!1:!0;if(!b)return null;q++;d=d||{};b=encodeURIComponent;var c=\"/gen_204?atyp=i&ei=\"+b(google.kEI);google.kEXPI&&(c+=\"&jexpid=\"+b(google.kEXPI));c+=\"&srcpg=\"+b(google.sn)+\"&jsr=\"+b(t.jsr)+\n",
      "\"&bver=\"+b(t.bv);t.dpf&&(c+=\"&dpf=\"+b(t.dpf));var f=a.lineNumber;f!==void 0&&(c+=\"&line=\"+f);var h=a.fileName;h&&(h.indexOf(\"-extension:/\")>0&&(e=3),c+=\"&script=\"+b(h),f&&h===window.location.href&&(f=document.documentElement.outerHTML.split(\"\\n\")[f],c+=\"&cad=\"+b(f?f.substring(0,300):\"No script found.\")));google.ple&&google.ple===1&&(e=2);c+=\"&jsel=\"+e;for(var u in d)c+=\"&\",c+=b(u),c+=\"=\",c+=b(d[u]);c=c+\"&emsg=\"+b(a.name+\": \"+a.message);c=c+\"&jsst=\"+b(a.stack||\"N/A\");c.length>=12288&&(c=c.substr(0,12288));a=c;m||google.log(0,\"\",a);return a};window.onerror=function(a,b,d,m,e){r!==a&&(a=e instanceof Error?e:Error(a),d===void 0||\"lineNumber\"in a||(a.lineNumber=d),b===void 0||\"fileName\"in a||(a.fileName=b),google.ml(a,!1,void 0,!1,a.name===\"SyntaxError\"||a.message.substring(0,11)===\"SyntaxError\"||a.message.indexOf(\"Script error\")!==-1?3:0));r=null;p&&q>=l&&(window.onerror=null)};})();</script></head><body bgcolor=\"#fff\"><script nonce=\"cI5T_gpbffvGZHRnaWZtqQ\">(function(){var src='/images/nav_logo229.png';var iesg=false;document.body.onload = function(){window.n && window.n();if (document.images){new Image().src=src;}\n",
      "if (!iesg){document.f&&document.f.q.focus();document.gbqf&&document.gbqf.q.focus();}\n",
      "}\n",
      "})();</script><div id=\"mngb\"><div id=gbar><nobr><b class=gb1>Pesquisa</b> <a class=gb1 href=\"https://www.google.com.br/imghp?hl=pt-BR&tab=wi\">Imagens</a> <a class=gb1 href=\"https://maps.google.com.br/maps?hl=pt-BR&tab=wl\">Maps</a> <a class=gb1 href=\"https://play.google.com/?hl=pt-BR&tab=w8\">Play</a> <a class=gb1 href=\"https://www.youtube.com/?tab=w1\">YouTube</a> <a class=gb1 href=\"https://news.google.com/?tab=wn\">Notícias</a> <a class=gb1 href=\"https://mail.google.com/mail/?tab=wm\">Gmail</a> <a class=gb1 href=\"https://drive.google.com/?tab=wo\">Drive</a> <a class=gb1 style=\"text-decoration:none\" href=\"https://www.google.com.br/intl/pt-BR/about/products?tab=wh\"><u>Mais</u> &raquo;</a></nobr></div><div id=guser width=100%><nobr><span id=gbn class=gbi></span><span id=gbf class=gbf></span><span id=gbe></span><a href=\"http://www.google.com.br/history/optout?hl=pt-BR\" class=gb4>Histórico da Web</a> | <a  href=\"/preferences?hl=pt-BR\" class=gb4>Configurações</a> | <a target=_top id=gb_70 href=\"https://accounts.google.com/ServiceLogin?hl=pt-BR&passive=true&continue=https://www.google.com.br/&ec=GAZAAQ\" class=gb4>Fazer login</a></nobr></div><div class=gbh style=left:0></div><div class=gbh style=right:0></div></div><center><br clear=\"all\" id=\"lgpd\"><div id=\"XjhHGf\"><img alt=\"Google\" height=\"92\" src=\"/images/branding/googlelogo/1x/googlelogo_white_background_color_272x92dp.png\" style=\"padding:28px 0 14px\" width=\"272\" id=\"hplogo\"><br><br></div><form action=\"/search\" name=\"f\"><table cellpadding=\"0\" cellspacing=\"0\"><tr valign=\"top\"><td width=\"25%\">&nbsp;</td><td align=\"center\" nowrap=\"\"><input name=\"ie\" value=\"ISO-8859-1\" type=\"hidden\"><input value=\"pt-BR\" name=\"hl\" type=\"hidden\"><input name=\"source\" type=\"hidden\" value=\"hp\"><input name=\"biw\" type=\"hidden\"><input name=\"bih\" type=\"hidden\"><div class=\"ds\" style=\"height:32px;margin:4px 0\"><div style=\"position:relative;zoom:1\"><input class=\"lst Ucigb\" style=\"margin:0;padding:5px 8px 0 6px;vertical-align:top;color:#000;padding-right:38px\" autocomplete=\"off\" value=\"\" title=\"Pesquisa Google\" maxlength=\"2048\" name=\"q\" size=\"57\"><img src=\"/textinputassistant/tia.png\" style=\"position:absolute;cursor:pointer;right:5px;top:4px;z-index:300\" data-script-url=\"/textinputassistant/13/pt-BR_tia.js\" id=\"tsuid_1\" alt=\"\" height=\"23\" width=\"27\"><script nonce=\"cI5T_gpbffvGZHRnaWZtqQ\">(function(){var id='tsuid_1';document.getElementById(id).onclick = function(){var s = document.createElement('script');s.src = this.getAttribute('data-script-url');document.body.appendChild(s);};})();</script></div></div><br style=\"line-height:0\"><span class=\"ds\"><span class=\"lsbb\"><input class=\"lsb\" value=\"Pesquisa Google\" name=\"btnG\" type=\"submit\"></span></span><span class=\"ds\"><span class=\"lsbb\"><input class=\"lsb\" id=\"tsuid_2\" value=\"Estou com sorte\" name=\"btnI\" type=\"submit\"><script nonce=\"cI5T_gpbffvGZHRnaWZtqQ\">(function(){var id='tsuid_2';document.getElementById(id).onclick = function(){if (this.form.q.value){this.checked = 1;if (this.form.iflsig)this.form.iflsig.disabled = false;}\n",
      "else top.location='/doodles/';};})();</script><input value=\"AL9hbdgAAAAAZzKsFY2gcrFs9Q-aK1K_7JZAxshFZIZN\" name=\"iflsig\" type=\"hidden\"></span></span></td><td class=\"fl sblc\" align=\"left\" nowrap=\"\" width=\"25%\"><a href=\"/advanced_search?hl=pt-BR&amp;authuser=0\">Pesquisa avançada</a></td></tr></table><input id=\"gbv\" name=\"gbv\" type=\"hidden\" value=\"1\"><script nonce=\"cI5T_gpbffvGZHRnaWZtqQ\">(function(){var a,b=\"1\";if(document&&document.getElementById)if(typeof XMLHttpRequest!=\"undefined\")b=\"2\";else if(typeof ActiveXObject!=\"undefined\"){var c,d,e=[\"MSXML2.XMLHTTP.6.0\",\"MSXML2.XMLHTTP.3.0\",\"MSXML2.XMLHTTP\",\"Microsoft.XMLHTTP\"];for(c=0;d=e[c++];)try{new ActiveXObject(d),b=\"2\"}catch(h){}}a=b;if(a==\"2\"&&location.search.indexOf(\"&gbv=2\")==-1){var f=google.gbvu,g=document.getElementById(\"gbv\");g&&(g.value=a);f&&window.setTimeout(function(){location.href=f},0)};}).call(this);</script></form><div style=\"font-size:83%;min-height:3.5em\"><br></div><span id=\"footer\"><div style=\"font-size:10pt\"><div style=\"margin:19px auto;text-align:center\" id=\"WqQANb\"><a href=\"/intl/pt-BR/ads/\">Publicidade</a><a href=\"/services/\">Soluções empresariais</a><a href=\"/intl/pt-BR/about.html\">Sobre o Google</a><a href=\"https://www.google.com.br/setprefdomain?prefdom=US&amp;sig=K_AhoX1VPtRqvpR6elg2UMVlgmA0w%3D\" id=\"fehl\">Google.com</a></div></div><p style=\"font-size:8pt;color:#70757a\">&copy; 2024 - <a href=\"/intl/pt-BR/policies/privacy/\">Privacidade</a> - <a href=\"/intl/pt-BR/policies/terms/\">Termos</a></p></span></center><script nonce=\"cI5T_gpbffvGZHRnaWZtqQ\">(function(){window.google.cdo={height:757,width:1440};(function(){var a=window.innerWidth,b=window.innerHeight;if(!a||!b){var c=window.document,d=c.compatMode==\"CSS1Compat\"?c.documentElement:c.body;a=d.clientWidth;b=d.clientHeight}\n",
      "if(a&&b&&(a!=google.cdo.width||b!=google.cdo.height)){var e=google,f=e.log,g=\"/client_204?&atyp=i&biw=\"+a+\"&bih=\"+b+\"&ei=\"+google.kEI,h=\"\",k=[],l=window.google!==void 0&&window.google.kOPI!==void 0&&window.google.kOPI!==0?window.google.kOPI:null;l!=null&&k.push([\"opi\",l.toString()]);for(var m=0;m<k.length;m++){if(m===0||m>0)h+=\"&\";h+=k[m][0]+\"=\"+k[m][1]}f.call(e,\"\",\"\",g+h)};}).call(this);})();</script>  <script nonce=\"cI5T_gpbffvGZHRnaWZtqQ\">(function(){google.xjs={basecomb:'/xjs/_/js/k\\x3dxjs.hp.en.66XXi5uTznM.es5.O/ck\\x3dxjs.hp.t2t8GtGA7F0.L.X.O/am\\x3dAgAAAAAQAAAAAAAAAAAAAAAAAAAAAAAAAAAAAAAQBAAAAAAAAAAAGAAAhgEgACAAQIAAAAAAAAAAAAAAAAAQAQAoAAgTAACA-I4AQAAsAgDACw/d\\x3d1/ed\\x3d1/dg\\x3d0/ujg\\x3d1/rs\\x3dACT90oF1PBgin6W4Bnmi2DmmuG98QJMByQ',basecss:'/xjs/_/ss/k\\x3dxjs.hp.t2t8GtGA7F0.L.X.O/am\\x3dAgAAAAAQAAAAAAAAAAAAAAAAAAAAAAAAAAAAAAAABAAAAAAAAAAAAAAABgAgACAAQIAAAAAAAAAAAAAAAAAQAQAoAAgT/rs\\x3dACT90oGSyuwhd06skOIVWzWdII21bRUZlA',basejs:'/xjs/_/js/k\\x3dxjs.hp.en.66XXi5uTznM.es5.O/am\\x3dAAAAAAAAAAAAAAAAAAAAAAAAAAAAAAAAAAAAAAAQAAAAAAAAAAAAGAAAgAEAAAAAAAAAAAAAAAAAAAAAAAAAAAAAAAAAAACA-I4AQAAsAgDACw/dg\\x3d0/rs\\x3dACT90oHlRybvJgpg_nThDI-dUn42O-dYzA',excm:[]};})();</script>       <script nonce=\"cI5T_gpbffvGZHRnaWZtqQ\">(function(){var u='/xjs/_/js/k\\x3dxjs.hp.en.66XXi5uTznM.es5.O/am\\x3dAAAAAAAAAAAAAAAAAAAAAAAAAAAAAAAAAAAAAAAQAAAAAAAAAAAAGAAAgAEAAAAAAAAAAAAAAAAAAAAAAAAAAAAAAAAAAACA-I4AQAAsAgDACw/d\\x3d1/ed\\x3d1/dg\\x3d3/rs\\x3dACT90oHlRybvJgpg_nThDI-dUn42O-dYzA/m\\x3dsb_he,d';var st=1;var amd=1000;var mmd=0;var pod=true;var e=typeof Object.defineProperties==\"function\"?Object.defineProperty:function(a,b,c){if(a==Array.prototype||a==Object.prototype)return a;a[b]=c.value;return a},f=function(a){a=[\"object\"==typeof globalThis&&globalThis,a,\"object\"==typeof window&&window,\"object\"==typeof self&&self,\"object\"==typeof global&&global];for(var b=0;b<a.length;++b){var c=a[b];if(c&&c.Math==Math)return c}throw Error(\"a\");},h=f(this),k=function(a,b){if(b)a:{var c=h;a=a.split(\".\");for(var d=0;d<a.length-1;d++){var g=a[d];if(!(g in\n",
      "c))break a;c=c[g]}a=a[a.length-1];d=c[a];b=b(d);b!=d&&b!=null&&e(c,a,{configurable:!0,writable:!0,value:b})}};k(\"globalThis\",function(a){return a||h});\n",
      "var l=this||self;function m(){var a,b,c;if(b=a=(b=window.google)==null?void 0:(c=b.ia)==null?void 0:c.r.B2Jtyd)b=a.m,b=b===1||b===5;return b&&a.cbfd!=null&&a.cbvi!=null?a:void 0};function n(){var a=[u];if(!google.dp){for(var b=0;b<a.length;b++){var c=a[b],d=document.createElement(\"link\");d.setAttribute(\"as\",\"script\");d.setAttribute(\"href\",c);d.setAttribute(\"rel\",\"preload\");document.body.appendChild(d)}google.dp=!0}};\n",
      "var p=globalThis.trustedTypes,q;function r(){var a=null;if(!p)return a;try{var b=function(c){return c};a=p.createPolicy(\"goog#html\",{createHTML:b,createScript:b,createScriptURL:b})}catch(c){}return a};var t=function(a){this.g=a};t.prototype.toString=function(){return this.g+\"\"};function w(a,b){if(b instanceof t)b=b.g;else throw Error(\"b\");a.src=b;var c;b=a.ownerDocument&&a.ownerDocument.defaultView||window;b=b===void 0?document:b;var d;b=(d=(c=\"document\"in b?b.document:b).querySelector)==null?void 0:d.call(c,\"script[nonce]\");(c=b==null?\"\":b.nonce||b.getAttribute(\"nonce\")||\"\")&&a.setAttribute(\"nonce\",c)};var x=function(){var a=document;var b=\"SCRIPT\";a.contentType===\"application/xhtml+xml\"&&(b=b.toLowerCase());return a.createElement(b)};function y(a){a=a===null?\"null\":a===void 0?\"undefined\":a;q===void 0&&(q=r());var b=q;return new t(b?b.createScriptURL(a):a)};google.ps===void 0&&(google.ps=[]);function z(){var a=u,b=function(){};google.lx=google.stvsc?b:function(){A(a);google.lx=b};google.bx||google.lx()}function B(a,b){b&&w(a,y(b));var c=a.onload;a.onload=function(d){c&&c(d);google.ps=google.ps.filter(function(g){return a!==g})};google.ps.push(a);document.body.appendChild(a)}google.as=B;function A(a){google.timers&&google.timers.load&&google.tick&&google.tick(\"load\",\"xjsls\");var b=x();b.onerror=function(){google.ple=1};b.onload=function(){google.ple=0};google.xjsus=void 0;B(b,a);google.aple=-1;google.dp=!0};function C(a){var b=a.getAttribute(\"jscontroller\");return(b===\"UBXHI\"||b===\"R3fhkb\"||b===\"TSZEqd\")&&a.hasAttribute(\"data-src\")}function D(){for(var a=document.getElementsByTagName(\"img\"),b=0,c=a.length;b<c;b++){var d=a[b];if(d.hasAttribute(\"data-lzy_\")&&Number(d.getAttribute(\"data-atf\"))&1&&!C(d))return!0}return!1}for(var E=document.getElementsByTagName(\"img\"),F=0,G=E.length;F<G;++F){var H=E[F];Number(H.getAttribute(\"data-atf\"))&1&&C(H)&&(H.src=H.getAttribute(\"data-src\"))};var I,J,K,L,M,N;function O(){google.xjsu=u;l._F_jsUrl=u;M=function(){z()};I=!1;J=(st===1||st===3)&&!!google.caft&&!D();K=m();L=(st===2||st===3)&&!!K&&!D();N=pod}function P(){I||J||L||(M(),I=!0)}setTimeout(function(){google&&google.tick&&google.timers&&google.timers.load&&google.tick(\"load\",\"xjspls\");O();if(J||L){if(J){var a=function(){J=!1;P()};google.caft(a);window.setTimeout(a,amd)}L&&(a=function(){L=!1;P()},K.cbvi.push(a),window.setTimeout(a,mmd));N&&(I||n())}else M()},0);})();window._ = window._ || {};window._DumpException = _._DumpException = function(e){throw e;};window._s = window._s || {};_s._DumpException = _._DumpException;window._qs = window._qs || {};_qs._DumpException = _._DumpException;(function(){var t=[2,16384,0,0,0,0,0,75497472,4,67108864,102400,155214210,41984,513,2464,0,17825792,673226752,304,2342432,36446272,3080192];window._F_toggles = window._xjs_toggles = t;})();window._F_installCss = window._F_installCss || function(css){};(function(){google.jl={bfl:0,dw:false,ine:false,ubm:false,uwp:true,vs:false};})();(function(){var pmc='{\\x22d\\x22:{},\\x22sb_he\\x22:{\\x22agen\\x22:false,\\x22cgen\\x22:false,\\x22client\\x22:\\x22heirloom-hp\\x22,\\x22dh\\x22:true,\\x22ds\\x22:\\x22\\x22,\\x22fl\\x22:true,\\x22host\\x22:\\x22google.com.br\\x22,\\x22jsonp\\x22:true,\\x22msgs\\x22:{\\x22cibl\\x22:\\x22Limpar pesquisa\\x22,\\x22dym\\x22:\\x22Voc\\\\u00ea quis dizer:\\x22,\\x22lcky\\x22:\\x22Estou com sorte\\x22,\\x22lml\\x22:\\x22Saiba mais\\x22,\\x22psrc\\x22:\\x22Esta pesquisa foi removida do seu\\\\u003Ca href\\x3d\\\\\\x22/history\\\\\\x22\\\\u003EHist\\\\u00f3rico da web\\\\u003C/a\\\\u003E\\x22,\\x22psrl\\x22:\\x22Remover\\x22,\\x22sbit\\x22:\\x22Pesquisa por imagem\\x22,\\x22srch\\x22:\\x22Pesquisa Google\\x22},\\x22ovr\\x22:{},\\x22pq\\x22:\\x22\\x22,\\x22rfs\\x22:[],\\x22stok\\x22:\\x22WqEIt89DDzBP8JdbXULeFX8i1Pc\\x22}}';google.pmc=JSON.parse(pmc);})();(function(){var b=function(a){var c=0;return function(){return c<a.length?{done:!1,value:a[c++]}:{done:!0}}};\n",
      "var e=this||self;var g,h;a:{for(var k=[\"CLOSURE_FLAGS\"],l=e,n=0;n<k.length;n++)if(l=l[k[n]],l==null){h=null;break a}h=l}var p=h&&h[610401301];g=p!=null?p:!1;var q,r=e.navigator;q=r?r.userAgentData||null:null;function t(a){return g?q?q.brands.some(function(c){return(c=c.brand)&&c.indexOf(a)!=-1}):!1:!1}function u(a){var c;a:{if(c=e.navigator)if(c=c.userAgent)break a;c=\"\"}return c.indexOf(a)!=-1};function v(){return g?!!q&&q.brands.length>0:!1}function w(){return u(\"Safari\")&&!(x()||(v()?0:u(\"Coast\"))||(v()?0:u(\"Opera\"))||(v()?0:u(\"Edge\"))||(v()?t(\"Microsoft Edge\"):u(\"Edg/\"))||(v()?t(\"Opera\"):u(\"OPR\"))||u(\"Firefox\")||u(\"FxiOS\")||u(\"Silk\")||u(\"Android\"))}function x(){return v()?t(\"Chromium\"):(u(\"Chrome\")||u(\"CriOS\"))&&!(v()?0:u(\"Edge\"))||u(\"Silk\")}function y(){return u(\"Android\")&&!(x()||u(\"Firefox\")||u(\"FxiOS\")||(v()?0:u(\"Opera\"))||u(\"Silk\"))};var z=v()?!1:u(\"Trident\")||u(\"MSIE\");y();x();w();var A=!z&&!w(),D=function(a){if(/-[a-z]/.test(\"ved\"))return null;if(A&&a.dataset){if(y()&&!(\"ved\"in a.dataset))return null;a=a.dataset.ved;return a===void 0?null:a}return a.getAttribute(\"data-\"+\"ved\".replace(/([A-Z])/g,\"-$1\").toLowerCase())};var E=[],F=null;function G(a){a=a.target;var c=performance.now(),f=[],H=f.concat,d=E;if(!(d instanceof Array)){var m=typeof Symbol!=\"undefined\"&&Symbol.iterator&&d[Symbol.iterator];if(m)d=m.call(d);else if(typeof d.length==\"number\")d={next:b(d)};else throw Error(\"b`\"+String(d));for(var B=[];!(m=d.next()).done;)B.push(m.value);d=B}E=H.call(f,d,[c]);if(a&&a instanceof HTMLElement)if(a===F){if(c=E.length>=4)c=(E[E.length-1]-E[E.length-4])/1E3<5;if(c){c=google.getEI(a);a.hasAttribute(\"data-ved\")?f=a?D(a)||\"\":\"\":f=(f=\n",
      "a.closest(\"[data-ved]\"))?D(f)||\"\":\"\";f=f||\"\";if(a.hasAttribute(\"jsname\"))a=a.getAttribute(\"jsname\");else{var C;a=(C=a.closest(\"[jsname]\"))==null?void 0:C.getAttribute(\"jsname\")}google.log(\"rcm\",\"&ei=\"+c+\"&tgtved=\"+f+\"&jsname=\"+(a||\"\"))}}else F=a,E=[c]}window.document.addEventListener(\"DOMContentLoaded\",function(){document.body.addEventListener(\"click\",G)});}).call(this);</script></body></html>\n"
     ]
    }
   ],
   "source": [
    "url = 'https://www.google.com.br'\n",
    "resposta = requests.get(url)\n",
    "if resposta.status_code == 200:\n",
    "    print(resposta.text)"
   ]
  },
  {
   "cell_type": "code",
   "execution_count": 78,
   "metadata": {},
   "outputs": [
    {
     "name": "stdout",
     "output_type": "stream",
     "text": [
      "Defaulting to user installation because normal site-packages is not writeable\n",
      "Requirement already satisfied: beautifulsoup4 in /home/arteweyl/.local/lib/python3.11/site-packages (4.12.3)\n",
      "Requirement already satisfied: soupsieve>1.2 in /home/arteweyl/.local/lib/python3.11/site-packages (from beautifulsoup4) (2.6)\n",
      "Note: you may need to restart the kernel to use updated packages.\n"
     ]
    }
   ],
   "source": [
    "%pip install beautifulsoup4"
   ]
  },
  {
   "cell_type": "code",
   "execution_count": 80,
   "metadata": {},
   "outputs": [
    {
     "data": {
      "text/plain": [
       "'<!DOCTYPE html>\\n<html itemscope=\"\" itemtype=\"http://schema.org/WebPage\" lang=\"pt-BR\">\\n <head>\\n  <meta content=\"text/html; charset=utf-8\" http-equiv=\"Content-Type\"/>\\n  <meta content=\"/images/branding/googleg/1x/googleg_standard_color_128dp.png\" itemprop=\"image\"/>\\n  <title>\\n   Google\\n  </title>\\n  <script nonce=\"cI5T_gpbffvGZHRnaWZtqQ\">\\n   (function(){var _g={kEI:\\'BZ4yZ-ONItiRnesPzZPnsAc\\',kEXPI:\\'0,18168,3682128,1088,507102,31559,2872,2891,73050,16105,201864,134777,8155,23351,22435,9779,62658,76208,15816,1804,35268,11814,1635,29276,5230292,10489,113,8833921,4,188,1,5,1,29,5,12,18,1,7,2,4,1,10,1,9,2,2,1,7,52,5,7439204,16496229,4043709,16672,2169859,23029351,6869,5930,100481,11643,10980,15164,8181,5927,43503,21670,6754,2639,21239,9139,745,2,2,3851,328,4459,1766,27990,5633,687,4437,25418,1346,13703,8203,3296,4135,12132,458,1787,1526,1905,12568,797,11899,4971,10668,9543,3247,594,94,1711,1314,4547,132,3103,3716,1682,41,11882,1757,1,4358,3103,4,641,1,34,2706,302,265,1,199,892,95,397,46,1,29,2224,2999,2332,2073,278,508,9,838,5116,692,384,490,8,272,1551,334,2767,728,386,2035,192,895,3,7,149,1534,38,558,948,241,455,60,352,1401,1855,816,835,1786,2,843,2,595,394,117,2032,623,4,2,120,95,21,1836,2,1706,557,211,1685,3,383,1377,566,68,1249,332,40,513,96,34,108,477,313,59,61,416,23,43,467,111,535,93,41,624,111,607,53,1507,227,190,1080,5,4,4,4,348,155,184,808,249,2,701,670,452,157,292,1579,119,1307,327,719,105,141,408,453,1921,15,792,3,2,465,634,49,1260,235,1089,2,27,109,138,1745,1061,17,581,46,49,10,3,213,34,1434,7,1301,21026434,380115,3,14538,2455,21,588,1417,1478,868,1744,5430\\',kBL:\\'Xg28\\',kOPI:89978449};(function(){var a;((a=window.google)==null?0:a.stvsc)?google.kEI=_g.kEI:window.google=_g;}).call(this);})();(function(){google.sn=\\'webhp\\';google.kHL=\\'pt-BR\\';})();(function(){\\nvar h=this||self;function l(){return window.google!==void 0&&window.google.kOPI!==void 0&&window.google.kOPI!==0?window.google.kOPI:null};var m,n=[];function p(a){for(var b;a&&(!a.getAttribute||!(b=a.getAttribute(\"eid\")));)a=a.parentNode;return b||m}function q(a){for(var b=null;a&&(!a.getAttribute||!(b=a.getAttribute(\"leid\")));)a=a.parentNode;return b}function r(a){/^http:/i.test(a)&&window.location.protocol===\"https:\"&&(google.ml&&google.ml(Error(\"a\"),!1,{src:a,glmm:1}),a=\"\");return a}\\nfunction t(a,b,c,d,k){var e=\"\";b.search(\"&ei=\")===-1&&(e=\"&ei=\"+p(d),b.search(\"&lei=\")===-1&&(d=q(d))&&(e+=\"&lei=\"+d));d=\"\";var g=b.search(\"&cshid=\")===-1&&a!==\"slh\",f=[];f.push([\"zx\",Date.now().toString()]);h._cshid&&g&&f.push([\"cshid\",h._cshid]);c=c();c!=null&&f.push([\"opi\",c.toString()]);for(c=0;c<f.length;c++){if(c===0||c>0)d+=\"&\";d+=f[c][0]+\"=\"+f[c][1]}return\"/\"+(k||\"gen_204\")+\"?atyp=i&ct=\"+String(a)+\"&cad=\"+(b+e+d)};m=google.kEI;google.getEI=p;google.getLEI=q;google.ml=function(){return null};google.log=function(a,b,c,d,k,e){e=e===void 0?l:e;c||(c=t(a,b,e,d,k));if(c=r(c)){a=new Image;var g=n.length;n[g]=a;a.onerror=a.onload=a.onabort=function(){delete n[g]};a.src=c}};google.logUrl=function(a,b){b=b===void 0?l:b;return t(\"\",a,b)};}).call(this);(function(){google.y={};google.sy=[];var d;(d=google).x||(d.x=function(a,b){if(a)var c=a.id;else{do c=Math.random();while(google.y[c])}google.y[c]=[a,b];return!1});var e;(e=google).sx||(e.sx=function(a){google.sy.push(a)});google.lm=[];var f;(f=google).plm||(f.plm=function(a){google.lm.push.apply(google.lm,a)});google.lq=[];var g;(g=google).load||(g.load=function(a,b,c){google.lq.push([[a],b,c])});var h;(h=google).loadAll||(h.loadAll=function(a,b){google.lq.push([a,b])});google.bx=!1;var k;(k=google).lx||(k.lx=function(){});var l=[],m;(m=google).fce||(m.fce=function(a,b,c,n){l.push([a,b,c,n])});google.qce=l;}).call(this);google.f={};(function(){\\ndocument.documentElement.addEventListener(\"submit\",function(b){var a;if(a=b.target){var c=a.getAttribute(\"data-submitfalse\");a=c===\"1\"||c===\"q\"&&!a.elements.q.value?!0:!1}else a=!1;a&&(b.preventDefault(),b.stopPropagation())},!0);document.documentElement.addEventListener(\"click\",function(b){var a;a:{for(a=b.target;a&&a!==document.documentElement;a=a.parentElement)if(a.tagName===\"A\"){a=a.getAttribute(\"data-nohref\")===\"1\";break a}a=!1}a&&b.preventDefault()},!0);}).call(this);\\n  </script>\\n  <style>\\n   #gbar,#guser{font-size:13px;padding-top:1px !important;}#gbar{height:22px}#guser{padding-bottom:7px !important;text-align:right}.gbh,.gbd{border-top:1px solid #c9d7f1;font-size:1px}.gbh{height:0;position:absolute;top:24px;width:100%}@media all{.gb1{height:22px;margin-right:.5em;vertical-align:top}#gbar{float:left}}a.gb1,a.gb4{text-decoration:underline !important}a.gb1,a.gb4{color:#00c !important}.gbi .gb4{color:#dd8e27 !important}.gbf .gb4{color:#900 !important}\\n  </style>\\n  <style>\\n   body,td,a,p,.h{font-family:arial,sans-serif}body{margin:0;overflow-y:scroll}#gog{padding:3px 8px 0}td{line-height:.8em}.gac_m td{line-height:17px}form{margin-bottom:20px}.h{color:#1967d2}em{font-weight:bold;font-style:normal}.lst{height:25px;width:496px}.gsfi,.lst{font:18px arial,sans-serif}.gsfs{font:17px arial,sans-serif}.ds{display:inline-box;display:inline-block;margin:3px 0 4px;margin-left:4px}input{font-family:inherit}body{background:#fff;color:#000}a{color:#681da8;text-decoration:none}a:hover,a:active{text-decoration:underline}.fl a{color:#1967d2}a:visited{color:#681da8}.sblc{padding-top:5px}.sblc a{display:block;margin:2px 0;margin-left:13px;font-size:11px}.lsbb{background:#f8f9fa;border:solid 1px;border-color:#dadce0 #70757a #70757a #dadce0;height:30px}.lsbb{display:block}#WqQANb a{display:inline-block;margin:0 12px}.lsb{background:url(/images/nav_logo229.png) 0 -261px repeat-x;color:#000;border:none;cursor:pointer;height:30px;margin:0;outline:0;font:15px arial,sans-serif;vertical-align:top}.lsb:active{background:#dadce0}.lst:focus{outline:none}.Ucigb{width:458px}\\n  </style>\\n  <script nonce=\"cI5T_gpbffvGZHRnaWZtqQ\">\\n   (function(){window.google.erd={jsr:1,bv:2114,de:true,dpf:\\'Edq7i_jhoSazbilbczfgxuTtIJI2xVE2XSAVc7rNiIY\\'};\\nvar g=this||self;var k,l=(k=g.mei)!=null?k:1,n,p=(n=g.sdo)!=null?n:!0,q=0,r,t=google.erd,v=t.jsr;google.ml=function(a,b,d,m,e){e=e===void 0?2:e;b&&(r=a&&a.message);d===void 0&&(d={});d.cad=\"ple_\"+google.ple+\".aple_\"+google.aple;if(google.dl)return google.dl(a,e,d,!0),null;b=d;if(v<0){window.console&&console.error(a,b);if(v===-2)throw a;b=!1}else b=!a||!a.message||a.message===\"Error loading script\"||q>=l&&!m?!1:!0;if(!b)return null;q++;d=d||{};b=encodeURIComponent;var c=\"/gen_204?atyp=i&ei=\"+b(google.kEI);google.kEXPI&&(c+=\"&jexpid=\"+b(google.kEXPI));c+=\"&srcpg=\"+b(google.sn)+\"&jsr=\"+b(t.jsr)+\\n\"&bver=\"+b(t.bv);t.dpf&&(c+=\"&dpf=\"+b(t.dpf));var f=a.lineNumber;f!==void 0&&(c+=\"&line=\"+f);var h=a.fileName;h&&(h.indexOf(\"-extension:/\")>0&&(e=3),c+=\"&script=\"+b(h),f&&h===window.location.href&&(f=document.documentElement.outerHTML.split(\"\\\\n\")[f],c+=\"&cad=\"+b(f?f.substring(0,300):\"No script found.\")));google.ple&&google.ple===1&&(e=2);c+=\"&jsel=\"+e;for(var u in d)c+=\"&\",c+=b(u),c+=\"=\",c+=b(d[u]);c=c+\"&emsg=\"+b(a.name+\": \"+a.message);c=c+\"&jsst=\"+b(a.stack||\"N/A\");c.length>=12288&&(c=c.substr(0,12288));a=c;m||google.log(0,\"\",a);return a};window.onerror=function(a,b,d,m,e){r!==a&&(a=e instanceof Error?e:Error(a),d===void 0||\"lineNumber\"in a||(a.lineNumber=d),b===void 0||\"fileName\"in a||(a.fileName=b),google.ml(a,!1,void 0,!1,a.name===\"SyntaxError\"||a.message.substring(0,11)===\"SyntaxError\"||a.message.indexOf(\"Script error\")!==-1?3:0));r=null;p&&q>=l&&(window.onerror=null)};})();\\n  </script>\\n </head>\\n <body bgcolor=\"#fff\">\\n  <script nonce=\"cI5T_gpbffvGZHRnaWZtqQ\">\\n   (function(){var src=\\'/images/nav_logo229.png\\';var iesg=false;document.body.onload = function(){window.n && window.n();if (document.images){new Image().src=src;}\\nif (!iesg){document.f&&document.f.q.focus();document.gbqf&&document.gbqf.q.focus();}\\n}\\n})();\\n  </script>\\n  <div id=\"mngb\">\\n   <div id=\"gbar\">\\n    <nobr>\\n     <b class=\"gb1\">\\n      Pesquisa\\n     </b>\\n     <a class=\"gb1\" href=\"https://www.google.com.br/imghp?hl=pt-BR&amp;tab=wi\">\\n      Imagens\\n     </a>\\n     <a class=\"gb1\" href=\"https://maps.google.com.br/maps?hl=pt-BR&amp;tab=wl\">\\n      Maps\\n     </a>\\n     <a class=\"gb1\" href=\"https://play.google.com/?hl=pt-BR&amp;tab=w8\">\\n      Play\\n     </a>\\n     <a class=\"gb1\" href=\"https://www.youtube.com/?tab=w1\">\\n      YouTube\\n     </a>\\n     <a class=\"gb1\" href=\"https://news.google.com/?tab=wn\">\\n      Notícias\\n     </a>\\n     <a class=\"gb1\" href=\"https://mail.google.com/mail/?tab=wm\">\\n      Gmail\\n     </a>\\n     <a class=\"gb1\" href=\"https://drive.google.com/?tab=wo\">\\n      Drive\\n     </a>\\n     <a class=\"gb1\" href=\"https://www.google.com.br/intl/pt-BR/about/products?tab=wh\" style=\"text-decoration:none\">\\n      <u>\\n       Mais\\n      </u>\\n      »\\n     </a>\\n    </nobr>\\n   </div>\\n   <div id=\"guser\" width=\"100%\">\\n    <nobr>\\n     <span class=\"gbi\" id=\"gbn\">\\n     </span>\\n     <span class=\"gbf\" id=\"gbf\">\\n     </span>\\n     <span id=\"gbe\">\\n     </span>\\n     <a class=\"gb4\" href=\"http://www.google.com.br/history/optout?hl=pt-BR\">\\n      Histórico da Web\\n     </a>\\n     |\\n     <a class=\"gb4\" href=\"/preferences?hl=pt-BR\">\\n      Configurações\\n     </a>\\n     |\\n     <a class=\"gb4\" href=\"https://accounts.google.com/ServiceLogin?hl=pt-BR&amp;passive=true&amp;continue=https://www.google.com.br/&amp;ec=GAZAAQ\" id=\"gb_70\" target=\"_top\">\\n      Fazer login\\n     </a>\\n    </nobr>\\n   </div>\\n   <div class=\"gbh\" style=\"left:0\">\\n   </div>\\n   <div class=\"gbh\" style=\"right:0\">\\n   </div>\\n  </div>\\n  <center>\\n   <br clear=\"all\" id=\"lgpd\"/>\\n   <div id=\"XjhHGf\">\\n    <img alt=\"Google\" height=\"92\" id=\"hplogo\" src=\"/images/branding/googlelogo/1x/googlelogo_white_background_color_272x92dp.png\" style=\"padding:28px 0 14px\" width=\"272\"/>\\n    <br/>\\n    <br/>\\n   </div>\\n   <form action=\"/search\" name=\"f\">\\n    <table cellpadding=\"0\" cellspacing=\"0\">\\n     <tr valign=\"top\">\\n      <td width=\"25%\">\\n      </td>\\n      <td align=\"center\" nowrap=\"\">\\n       <input name=\"ie\" type=\"hidden\" value=\"ISO-8859-1\"/>\\n       <input name=\"hl\" type=\"hidden\" value=\"pt-BR\"/>\\n       <input name=\"source\" type=\"hidden\" value=\"hp\"/>\\n       <input name=\"biw\" type=\"hidden\"/>\\n       <input name=\"bih\" type=\"hidden\"/>\\n       <div class=\"ds\" style=\"height:32px;margin:4px 0\">\\n        <div style=\"position:relative;zoom:1\">\\n         <input autocomplete=\"off\" class=\"lst Ucigb\" maxlength=\"2048\" name=\"q\" size=\"57\" style=\"margin:0;padding:5px 8px 0 6px;vertical-align:top;color:#000;padding-right:38px\" title=\"Pesquisa Google\" value=\"\"/>\\n         <img alt=\"\" data-script-url=\"/textinputassistant/13/pt-BR_tia.js\" height=\"23\" id=\"tsuid_1\" src=\"/textinputassistant/tia.png\" style=\"position:absolute;cursor:pointer;right:5px;top:4px;z-index:300\" width=\"27\"/>\\n         <script nonce=\"cI5T_gpbffvGZHRnaWZtqQ\">\\n          (function(){var id=\\'tsuid_1\\';document.getElementById(id).onclick = function(){var s = document.createElement(\\'script\\');s.src = this.getAttribute(\\'data-script-url\\');document.body.appendChild(s);};})();\\n         </script>\\n        </div>\\n       </div>\\n       <br style=\"line-height:0\"/>\\n       <span class=\"ds\">\\n        <span class=\"lsbb\">\\n         <input class=\"lsb\" name=\"btnG\" type=\"submit\" value=\"Pesquisa Google\"/>\\n        </span>\\n       </span>\\n       <span class=\"ds\">\\n        <span class=\"lsbb\">\\n         <input class=\"lsb\" id=\"tsuid_2\" name=\"btnI\" type=\"submit\" value=\"Estou com sorte\"/>\\n         <script nonce=\"cI5T_gpbffvGZHRnaWZtqQ\">\\n          (function(){var id=\\'tsuid_2\\';document.getElementById(id).onclick = function(){if (this.form.q.value){this.checked = 1;if (this.form.iflsig)this.form.iflsig.disabled = false;}\\nelse top.location=\\'/doodles/\\';};})();\\n         </script>\\n         <input name=\"iflsig\" type=\"hidden\" value=\"AL9hbdgAAAAAZzKsFY2gcrFs9Q-aK1K_7JZAxshFZIZN\"/>\\n        </span>\\n       </span>\\n      </td>\\n      <td align=\"left\" class=\"fl sblc\" nowrap=\"\" width=\"25%\">\\n       <a href=\"/advanced_search?hl=pt-BR&amp;authuser=0\">\\n        Pesquisa avançada\\n       </a>\\n      </td>\\n     </tr>\\n    </table>\\n    <input id=\"gbv\" name=\"gbv\" type=\"hidden\" value=\"1\"/>\\n    <script nonce=\"cI5T_gpbffvGZHRnaWZtqQ\">\\n     (function(){var a,b=\"1\";if(document&&document.getElementById)if(typeof XMLHttpRequest!=\"undefined\")b=\"2\";else if(typeof ActiveXObject!=\"undefined\"){var c,d,e=[\"MSXML2.XMLHTTP.6.0\",\"MSXML2.XMLHTTP.3.0\",\"MSXML2.XMLHTTP\",\"Microsoft.XMLHTTP\"];for(c=0;d=e[c++];)try{new ActiveXObject(d),b=\"2\"}catch(h){}}a=b;if(a==\"2\"&&location.search.indexOf(\"&gbv=2\")==-1){var f=google.gbvu,g=document.getElementById(\"gbv\");g&&(g.value=a);f&&window.setTimeout(function(){location.href=f},0)};}).call(this);\\n    </script>\\n   </form>\\n   <div style=\"font-size:83%;min-height:3.5em\">\\n    <br/>\\n   </div>\\n   <span id=\"footer\">\\n    <div style=\"font-size:10pt\">\\n     <div id=\"WqQANb\" style=\"margin:19px auto;text-align:center\">\\n      <a href=\"/intl/pt-BR/ads/\">\\n       Publicidade\\n      </a>\\n      <a href=\"/services/\">\\n       Soluções empresariais\\n      </a>\\n      <a href=\"/intl/pt-BR/about.html\">\\n       Sobre o Google\\n      </a>\\n      <a href=\"https://www.google.com.br/setprefdomain?prefdom=US&amp;sig=K_AhoX1VPtRqvpR6elg2UMVlgmA0w%3D\" id=\"fehl\">\\n       Google.com\\n      </a>\\n     </div>\\n    </div>\\n    <p style=\"font-size:8pt;color:#70757a\">\\n     © 2024 -\\n     <a href=\"/intl/pt-BR/policies/privacy/\">\\n      Privacidade\\n     </a>\\n     -\\n     <a href=\"/intl/pt-BR/policies/terms/\">\\n      Termos\\n     </a>\\n    </p>\\n   </span>\\n  </center>\\n  <script nonce=\"cI5T_gpbffvGZHRnaWZtqQ\">\\n   (function(){window.google.cdo={height:757,width:1440};(function(){var a=window.innerWidth,b=window.innerHeight;if(!a||!b){var c=window.document,d=c.compatMode==\"CSS1Compat\"?c.documentElement:c.body;a=d.clientWidth;b=d.clientHeight}\\nif(a&&b&&(a!=google.cdo.width||b!=google.cdo.height)){var e=google,f=e.log,g=\"/client_204?&atyp=i&biw=\"+a+\"&bih=\"+b+\"&ei=\"+google.kEI,h=\"\",k=[],l=window.google!==void 0&&window.google.kOPI!==void 0&&window.google.kOPI!==0?window.google.kOPI:null;l!=null&&k.push([\"opi\",l.toString()]);for(var m=0;m<k.length;m++){if(m===0||m>0)h+=\"&\";h+=k[m][0]+\"=\"+k[m][1]}f.call(e,\"\",\"\",g+h)};}).call(this);})();\\n  </script>\\n  <script nonce=\"cI5T_gpbffvGZHRnaWZtqQ\">\\n   (function(){google.xjs={basecomb:\\'/xjs/_/js/k\\\\x3dxjs.hp.en.66XXi5uTznM.es5.O/ck\\\\x3dxjs.hp.t2t8GtGA7F0.L.X.O/am\\\\x3dAgAAAAAQAAAAAAAAAAAAAAAAAAAAAAAAAAAAAAAQBAAAAAAAAAAAGAAAhgEgACAAQIAAAAAAAAAAAAAAAAAQAQAoAAgTAACA-I4AQAAsAgDACw/d\\\\x3d1/ed\\\\x3d1/dg\\\\x3d0/ujg\\\\x3d1/rs\\\\x3dACT90oF1PBgin6W4Bnmi2DmmuG98QJMByQ\\',basecss:\\'/xjs/_/ss/k\\\\x3dxjs.hp.t2t8GtGA7F0.L.X.O/am\\\\x3dAgAAAAAQAAAAAAAAAAAAAAAAAAAAAAAAAAAAAAAABAAAAAAAAAAAAAAABgAgACAAQIAAAAAAAAAAAAAAAAAQAQAoAAgT/rs\\\\x3dACT90oGSyuwhd06skOIVWzWdII21bRUZlA\\',basejs:\\'/xjs/_/js/k\\\\x3dxjs.hp.en.66XXi5uTznM.es5.O/am\\\\x3dAAAAAAAAAAAAAAAAAAAAAAAAAAAAAAAAAAAAAAAQAAAAAAAAAAAAGAAAgAEAAAAAAAAAAAAAAAAAAAAAAAAAAAAAAAAAAACA-I4AQAAsAgDACw/dg\\\\x3d0/rs\\\\x3dACT90oHlRybvJgpg_nThDI-dUn42O-dYzA\\',excm:[]};})();\\n  </script>\\n  <script nonce=\"cI5T_gpbffvGZHRnaWZtqQ\">\\n   (function(){var u=\\'/xjs/_/js/k\\\\x3dxjs.hp.en.66XXi5uTznM.es5.O/am\\\\x3dAAAAAAAAAAAAAAAAAAAAAAAAAAAAAAAAAAAAAAAQAAAAAAAAAAAAGAAAgAEAAAAAAAAAAAAAAAAAAAAAAAAAAAAAAAAAAACA-I4AQAAsAgDACw/d\\\\x3d1/ed\\\\x3d1/dg\\\\x3d3/rs\\\\x3dACT90oHlRybvJgpg_nThDI-dUn42O-dYzA/m\\\\x3dsb_he,d\\';var st=1;var amd=1000;var mmd=0;var pod=true;var e=typeof Object.defineProperties==\"function\"?Object.defineProperty:function(a,b,c){if(a==Array.prototype||a==Object.prototype)return a;a[b]=c.value;return a},f=function(a){a=[\"object\"==typeof globalThis&&globalThis,a,\"object\"==typeof window&&window,\"object\"==typeof self&&self,\"object\"==typeof global&&global];for(var b=0;b<a.length;++b){var c=a[b];if(c&&c.Math==Math)return c}throw Error(\"a\");},h=f(this),k=function(a,b){if(b)a:{var c=h;a=a.split(\".\");for(var d=0;d<a.length-1;d++){var g=a[d];if(!(g in\\nc))break a;c=c[g]}a=a[a.length-1];d=c[a];b=b(d);b!=d&&b!=null&&e(c,a,{configurable:!0,writable:!0,value:b})}};k(\"globalThis\",function(a){return a||h});\\nvar l=this||self;function m(){var a,b,c;if(b=a=(b=window.google)==null?void 0:(c=b.ia)==null?void 0:c.r.B2Jtyd)b=a.m,b=b===1||b===5;return b&&a.cbfd!=null&&a.cbvi!=null?a:void 0};function n(){var a=[u];if(!google.dp){for(var b=0;b<a.length;b++){var c=a[b],d=document.createElement(\"link\");d.setAttribute(\"as\",\"script\");d.setAttribute(\"href\",c);d.setAttribute(\"rel\",\"preload\");document.body.appendChild(d)}google.dp=!0}};\\nvar p=globalThis.trustedTypes,q;function r(){var a=null;if(!p)return a;try{var b=function(c){return c};a=p.createPolicy(\"goog#html\",{createHTML:b,createScript:b,createScriptURL:b})}catch(c){}return a};var t=function(a){this.g=a};t.prototype.toString=function(){return this.g+\"\"};function w(a,b){if(b instanceof t)b=b.g;else throw Error(\"b\");a.src=b;var c;b=a.ownerDocument&&a.ownerDocument.defaultView||window;b=b===void 0?document:b;var d;b=(d=(c=\"document\"in b?b.document:b).querySelector)==null?void 0:d.call(c,\"script[nonce]\");(c=b==null?\"\":b.nonce||b.getAttribute(\"nonce\")||\"\")&&a.setAttribute(\"nonce\",c)};var x=function(){var a=document;var b=\"SCRIPT\";a.contentType===\"application/xhtml+xml\"&&(b=b.toLowerCase());return a.createElement(b)};function y(a){a=a===null?\"null\":a===void 0?\"undefined\":a;q===void 0&&(q=r());var b=q;return new t(b?b.createScriptURL(a):a)};google.ps===void 0&&(google.ps=[]);function z(){var a=u,b=function(){};google.lx=google.stvsc?b:function(){A(a);google.lx=b};google.bx||google.lx()}function B(a,b){b&&w(a,y(b));var c=a.onload;a.onload=function(d){c&&c(d);google.ps=google.ps.filter(function(g){return a!==g})};google.ps.push(a);document.body.appendChild(a)}google.as=B;function A(a){google.timers&&google.timers.load&&google.tick&&google.tick(\"load\",\"xjsls\");var b=x();b.onerror=function(){google.ple=1};b.onload=function(){google.ple=0};google.xjsus=void 0;B(b,a);google.aple=-1;google.dp=!0};function C(a){var b=a.getAttribute(\"jscontroller\");return(b===\"UBXHI\"||b===\"R3fhkb\"||b===\"TSZEqd\")&&a.hasAttribute(\"data-src\")}function D(){for(var a=document.getElementsByTagName(\"img\"),b=0,c=a.length;b<c;b++){var d=a[b];if(d.hasAttribute(\"data-lzy_\")&&Number(d.getAttribute(\"data-atf\"))&1&&!C(d))return!0}return!1}for(var E=document.getElementsByTagName(\"img\"),F=0,G=E.length;F<G;++F){var H=E[F];Number(H.getAttribute(\"data-atf\"))&1&&C(H)&&(H.src=H.getAttribute(\"data-src\"))};var I,J,K,L,M,N;function O(){google.xjsu=u;l._F_jsUrl=u;M=function(){z()};I=!1;J=(st===1||st===3)&&!!google.caft&&!D();K=m();L=(st===2||st===3)&&!!K&&!D();N=pod}function P(){I||J||L||(M(),I=!0)}setTimeout(function(){google&&google.tick&&google.timers&&google.timers.load&&google.tick(\"load\",\"xjspls\");O();if(J||L){if(J){var a=function(){J=!1;P()};google.caft(a);window.setTimeout(a,amd)}L&&(a=function(){L=!1;P()},K.cbvi.push(a),window.setTimeout(a,mmd));N&&(I||n())}else M()},0);})();window._ = window._ || {};window._DumpException = _._DumpException = function(e){throw e;};window._s = window._s || {};_s._DumpException = _._DumpException;window._qs = window._qs || {};_qs._DumpException = _._DumpException;(function(){var t=[2,16384,0,0,0,0,0,75497472,4,67108864,102400,155214210,41984,513,2464,0,17825792,673226752,304,2342432,36446272,3080192];window._F_toggles = window._xjs_toggles = t;})();window._F_installCss = window._F_installCss || function(css){};(function(){google.jl={bfl:0,dw:false,ine:false,ubm:false,uwp:true,vs:false};})();(function(){var pmc=\\'{\\\\x22d\\\\x22:{},\\\\x22sb_he\\\\x22:{\\\\x22agen\\\\x22:false,\\\\x22cgen\\\\x22:false,\\\\x22client\\\\x22:\\\\x22heirloom-hp\\\\x22,\\\\x22dh\\\\x22:true,\\\\x22ds\\\\x22:\\\\x22\\\\x22,\\\\x22fl\\\\x22:true,\\\\x22host\\\\x22:\\\\x22google.com.br\\\\x22,\\\\x22jsonp\\\\x22:true,\\\\x22msgs\\\\x22:{\\\\x22cibl\\\\x22:\\\\x22Limpar pesquisa\\\\x22,\\\\x22dym\\\\x22:\\\\x22Voc\\\\\\\\u00ea quis dizer:\\\\x22,\\\\x22lcky\\\\x22:\\\\x22Estou com sorte\\\\x22,\\\\x22lml\\\\x22:\\\\x22Saiba mais\\\\x22,\\\\x22psrc\\\\x22:\\\\x22Esta pesquisa foi removida do seu\\\\\\\\u003Ca href\\\\x3d\\\\\\\\\\\\x22/history\\\\\\\\\\\\x22\\\\\\\\u003EHist\\\\\\\\u00f3rico da web\\\\\\\\u003C/a\\\\\\\\u003E\\\\x22,\\\\x22psrl\\\\x22:\\\\x22Remover\\\\x22,\\\\x22sbit\\\\x22:\\\\x22Pesquisa por imagem\\\\x22,\\\\x22srch\\\\x22:\\\\x22Pesquisa Google\\\\x22},\\\\x22ovr\\\\x22:{},\\\\x22pq\\\\x22:\\\\x22\\\\x22,\\\\x22rfs\\\\x22:[],\\\\x22stok\\\\x22:\\\\x22WqEIt89DDzBP8JdbXULeFX8i1Pc\\\\x22}}\\';google.pmc=JSON.parse(pmc);})();(function(){var b=function(a){var c=0;return function(){return c<a.length?{done:!1,value:a[c++]}:{done:!0}}};\\nvar e=this||self;var g,h;a:{for(var k=[\"CLOSURE_FLAGS\"],l=e,n=0;n<k.length;n++)if(l=l[k[n]],l==null){h=null;break a}h=l}var p=h&&h[610401301];g=p!=null?p:!1;var q,r=e.navigator;q=r?r.userAgentData||null:null;function t(a){return g?q?q.brands.some(function(c){return(c=c.brand)&&c.indexOf(a)!=-1}):!1:!1}function u(a){var c;a:{if(c=e.navigator)if(c=c.userAgent)break a;c=\"\"}return c.indexOf(a)!=-1};function v(){return g?!!q&&q.brands.length>0:!1}function w(){return u(\"Safari\")&&!(x()||(v()?0:u(\"Coast\"))||(v()?0:u(\"Opera\"))||(v()?0:u(\"Edge\"))||(v()?t(\"Microsoft Edge\"):u(\"Edg/\"))||(v()?t(\"Opera\"):u(\"OPR\"))||u(\"Firefox\")||u(\"FxiOS\")||u(\"Silk\")||u(\"Android\"))}function x(){return v()?t(\"Chromium\"):(u(\"Chrome\")||u(\"CriOS\"))&&!(v()?0:u(\"Edge\"))||u(\"Silk\")}function y(){return u(\"Android\")&&!(x()||u(\"Firefox\")||u(\"FxiOS\")||(v()?0:u(\"Opera\"))||u(\"Silk\"))};var z=v()?!1:u(\"Trident\")||u(\"MSIE\");y();x();w();var A=!z&&!w(),D=function(a){if(/-[a-z]/.test(\"ved\"))return null;if(A&&a.dataset){if(y()&&!(\"ved\"in a.dataset))return null;a=a.dataset.ved;return a===void 0?null:a}return a.getAttribute(\"data-\"+\"ved\".replace(/([A-Z])/g,\"-$1\").toLowerCase())};var E=[],F=null;function G(a){a=a.target;var c=performance.now(),f=[],H=f.concat,d=E;if(!(d instanceof Array)){var m=typeof Symbol!=\"undefined\"&&Symbol.iterator&&d[Symbol.iterator];if(m)d=m.call(d);else if(typeof d.length==\"number\")d={next:b(d)};else throw Error(\"b`\"+String(d));for(var B=[];!(m=d.next()).done;)B.push(m.value);d=B}E=H.call(f,d,[c]);if(a&&a instanceof HTMLElement)if(a===F){if(c=E.length>=4)c=(E[E.length-1]-E[E.length-4])/1E3<5;if(c){c=google.getEI(a);a.hasAttribute(\"data-ved\")?f=a?D(a)||\"\":\"\":f=(f=\\na.closest(\"[data-ved]\"))?D(f)||\"\":\"\";f=f||\"\";if(a.hasAttribute(\"jsname\"))a=a.getAttribute(\"jsname\");else{var C;a=(C=a.closest(\"[jsname]\"))==null?void 0:C.getAttribute(\"jsname\")}google.log(\"rcm\",\"&ei=\"+c+\"&tgtved=\"+f+\"&jsname=\"+(a||\"\"))}}else F=a,E=[c]}window.document.addEventListener(\"DOMContentLoaded\",function(){document.body.addEventListener(\"click\",G)});}).call(this);\\n  </script>\\n </body>\\n</html>\\n'"
      ]
     },
     "execution_count": 80,
     "metadata": {},
     "output_type": "execute_result"
    }
   ],
   "source": [
    "from bs4 import BeautifulSoup\n",
    "\n",
    "soup = BeautifulSoup(resposta.text)\n",
    "soup.prettify()"
   ]
  },
  {
   "cell_type": "code",
   "execution_count": 82,
   "metadata": {},
   "outputs": [
    {
     "data": {
      "text/plain": [
       "['https://www.google.com.br/imghp?hl=pt-BR&tab=wi',\n",
       " 'https://maps.google.com.br/maps?hl=pt-BR&tab=wl',\n",
       " 'https://play.google.com/?hl=pt-BR&tab=w8',\n",
       " 'https://www.youtube.com/?tab=w1',\n",
       " 'https://news.google.com/?tab=wn',\n",
       " 'https://mail.google.com/mail/?tab=wm',\n",
       " 'https://drive.google.com/?tab=wo',\n",
       " 'https://www.google.com.br/intl/pt-BR/about/products?tab=wh',\n",
       " 'http://www.google.com.br/history/optout?hl=pt-BR',\n",
       " '/preferences?hl=pt-BR',\n",
       " 'https://accounts.google.com/ServiceLogin?hl=pt-BR&passive=true&continue=https://www.google.com.br/&ec=GAZAAQ',\n",
       " '/advanced_search?hl=pt-BR&authuser=0',\n",
       " '/intl/pt-BR/ads/',\n",
       " '/services/',\n",
       " '/intl/pt-BR/about.html',\n",
       " 'https://www.google.com.br/setprefdomain?prefdom=US&sig=K_AhoX1VPtRqvpR6elg2UMVlgmA0w%3D',\n",
       " '/intl/pt-BR/policies/privacy/',\n",
       " '/intl/pt-BR/policies/terms/']"
      ]
     },
     "execution_count": 82,
     "metadata": {},
     "output_type": "execute_result"
    }
   ],
   "source": [
    "links =  soup.find_all('a')\n",
    "links = [link.get('href') for link in links]\n",
    "links"
   ]
  },
  {
   "cell_type": "code",
   "execution_count": 83,
   "metadata": {},
   "outputs": [],
   "source": [
    "data = {'links': links}"
   ]
  },
  {
   "cell_type": "code",
   "execution_count": 87,
   "metadata": {},
   "outputs": [
    {
     "data": {
      "text/plain": [
       "0       https://www.google.com.br/imghp?hl=pt-BR&tab=wi\n",
       "1       https://maps.google.com.br/maps?hl=pt-BR&tab=wl\n",
       "2              https://play.google.com/?hl=pt-BR&tab=w8\n",
       "3                       https://www.youtube.com/?tab=w1\n",
       "4                       https://news.google.com/?tab=wn\n",
       "5                  https://mail.google.com/mail/?tab=wm\n",
       "6                      https://drive.google.com/?tab=wo\n",
       "7     https://www.google.com.br/intl/pt-BR/about/pro...\n",
       "8      http://www.google.com.br/history/optout?hl=pt-BR\n",
       "9                                 /preferences?hl=pt-BR\n",
       "10    https://accounts.google.com/ServiceLogin?hl=pt...\n",
       "11                 /advanced_search?hl=pt-BR&authuser=0\n",
       "12                                     /intl/pt-BR/ads/\n",
       "13                                           /services/\n",
       "14                               /intl/pt-BR/about.html\n",
       "15    https://www.google.com.br/setprefdomain?prefdo...\n",
       "16                        /intl/pt-BR/policies/privacy/\n",
       "17                          /intl/pt-BR/policies/terms/\n",
       "dtype: object"
      ]
     },
     "execution_count": 87,
     "metadata": {},
     "output_type": "execute_result"
    }
   ],
   "source": [
    "link_series = pd.Series(links)\n",
    "link_series"
   ]
  },
  {
   "cell_type": "code",
   "execution_count": 94,
   "metadata": {},
   "outputs": [],
   "source": [
    "headers = {\n",
    "    'User-Agent': 'Mozilla/5.0 (Windows NT 10.0; Win64; x64) AppleWebKit/537.36 (KHTML, like Gecko) Chrome/130.0.6723.117 Safari/537.3'}\n"
   ]
  },
  {
   "cell_type": "code",
   "execution_count": 95,
   "metadata": {},
   "outputs": [
    {
     "data": {
      "text/plain": [
       "404"
      ]
     },
     "execution_count": 95,
     "metadata": {},
     "output_type": "execute_result"
    }
   ],
   "source": [
    "r = requests.get('https://br.financas.yahoo.com/noticias/acoes-mais-negociadas/?guccounter=1',headers=headers)\n",
    "r.status_code"
   ]
  }
 ],
 "metadata": {
  "kernelspec": {
   "display_name": "Python 3",
   "language": "python",
   "name": "python3"
  },
  "language_info": {
   "codemirror_mode": {
    "name": "ipython",
    "version": 3
   },
   "file_extension": ".py",
   "mimetype": "text/x-python",
   "name": "python",
   "nbconvert_exporter": "python",
   "pygments_lexer": "ipython3",
   "version": "3.11.0"
  }
 },
 "nbformat": 4,
 "nbformat_minor": 2
}
